{
 "cells": [
  {
   "cell_type": "code",
   "execution_count": 104,
   "metadata": {
    "collapsed": true
   },
   "outputs": [],
   "source": [
    "from sqlalchemy import create_engine\n",
    "from sqlalchemy import MetaData, Column, Table, ForeignKey\n",
    "from sqlalchemy import Integer, String\n",
    "from psycopg2 import extras\n",
    "import psycopg2\n",
    "import sys\n",
    "import pprint\n",
    "import datetime"
   ]
  },
  {
   "cell_type": "code",
   "execution_count": 2,
   "metadata": {
    "collapsed": true
   },
   "outputs": [],
   "source": [
    "def connect():\n",
    "    # Define connection string\n",
    "    conn_string = \"host='tesla-vehicle-api-db.ct6ob3lecz50.us-west-2.rds.amazonaws.com' \\\n",
    "                   dbname = 'tesloop' \\\n",
    "                   user='tesmin' \\\n",
    "                   password='S100pdogg!e' \\\n",
    "                   port = 5432\"\n",
    "    print \"Connecting to database\\n --> %s\" %conn_string\n",
    "    \n",
    "    # actually make connection, if connection can't be made, then we raise exception here\n",
    "    conn = psycopg2.connect(conn_string)\n",
    "    # get a cursor object which we use to perform queries\n",
    "    cursor = conn.cursor(cursor_factory=psycopg2.extras.DictCursor)\n",
    "    print \"Successfully Connected!\\n\"\n",
    "    return cursor"
   ]
  },
  {
   "cell_type": "code",
   "execution_count": 167,
   "metadata": {
    "collapsed": false
   },
   "outputs": [
    {
     "name": "stdout",
     "output_type": "stream",
     "text": [
      "Connecting to database\n",
      " --> host='tesla-vehicle-api-db.ct6ob3lecz50.us-west-2.rds.amazonaws.com'                    dbname = 'tesloop'                    user='tesmin'                    password='S100pdogg!e'                    port = 5432\n",
      "Successfully Connected!\n",
      "\n"
     ]
    }
   ],
   "source": [
    "cursor = connect()"
   ]
  },
  {
   "cell_type": "code",
   "execution_count": 165,
   "metadata": {
    "collapsed": false
   },
   "outputs": [],
   "source": [
    "daterange = \"2016-06-02 12:00:00 - 2016-06-02 15:59:59\"\n",
    "dates = daterange.split(' - ')\n",
    "query = \"SELECT * FROM vehicle_data where timestamp>'%s' and timestamp<'%s' limit 1\" %(dates[0],dates[1])\n",
    "query = \"\"\"SELECT extract(epoch from timestamp AT TIME ZONE 'PDT') as timestamp_pdt, timestamp AT TIME ZONE 'PDT' as timestamp_real,\n",
    "                    drive_state, charge_state, climate_state\n",
    "            FROM vehicle_data WHERE extract(epoch from timestamp)>='1464864960.62814' and extract(epoch from timestamp)<='1464866407.14054' limit 10\"\"\""
   ]
  },
  {
   "cell_type": "code",
   "execution_count": 170,
   "metadata": {
    "collapsed": false,
    "scrolled": true
   },
   "outputs": [
    {
     "name": "stdout",
     "output_type": "stream",
     "text": [
      "['timestamp_pdt', 'timestamp_real', 'charge_state', 'climate_state', 'drive_state']\n",
      "['timestamp_pdt', 'timestamp_real', 'charge_state', 'climate_state', 'drive_state']\n",
      "['timestamp_pdt', 'timestamp_real', 'charge_state', 'climate_state', 'drive_state']\n"
     ]
    }
   ],
   "source": [
    "for i in cursor:\n",
    "#     pprint.pprint(i['drive_state']['speed'])\n",
    "    print i.keys()"
   ]
  },
  {
   "cell_type": "code",
   "execution_count": 178,
   "metadata": {
    "collapsed": false
   },
   "outputs": [],
   "source": [
    "cursor.execute(query)"
   ]
  },
  {
   "cell_type": "code",
   "execution_count": 173,
   "metadata": {
    "collapsed": false
   },
   "outputs": [
    {
     "name": "stdout",
     "output_type": "stream",
     "text": [
      "datetime.datetime(2016, 6, 2, 18, 0, 5, 383032, tzinfo=psycopg2.tz.FixedOffsetTimezone(offset=0, name=None))\n",
      "datetime.datetime(2016, 6, 2, 18, 5, 7, 219027, tzinfo=psycopg2.tz.FixedOffsetTimezone(offset=0, name=None))\n",
      "datetime.datetime(2016, 6, 2, 18, 10, 6, 234186, tzinfo=psycopg2.tz.FixedOffsetTimezone(offset=0, name=None))\n",
      "datetime.datetime(2016, 6, 2, 18, 15, 6, 710298, tzinfo=psycopg2.tz.FixedOffsetTimezone(offset=0, name=None))\n"
     ]
    }
   ],
   "source": [
    "for i in cursor:\n",
    "    pprint.pprint(i['timestamp_real'])"
   ]
  },
  {
   "cell_type": "code",
   "execution_count": 176,
   "metadata": {
    "collapsed": true
   },
   "outputs": [
    {
     "name": "stdout",
     "output_type": "stream",
     "text": [
      "{u'driver_temp_setting': 22.6,\n",
      " u'fan_status': None,\n",
      " u'inside_temp': None,\n",
      " u'is_auto_conditioning_on': None,\n",
      " u'is_front_defroster_on': None,\n",
      " u'is_rear_defroster_on': False,\n",
      " u'outside_temp': None,\n",
      " u'passenger_temp_setting': 22.6,\n",
      " u'seat_heater_left': 0,\n",
      " u'seat_heater_rear_center': 0,\n",
      " u'seat_heater_rear_left': 0,\n",
      " u'seat_heater_rear_left_back': 0,\n",
      " u'seat_heater_rear_right': 0,\n",
      " u'seat_heater_rear_right_back': 0,\n",
      " u'seat_heater_right': 0,\n",
      " u'smart_preconditioning': False}\n",
      "{u'driver_temp_setting': 22.6,\n",
      " u'fan_status': None,\n",
      " u'inside_temp': None,\n",
      " u'is_auto_conditioning_on': None,\n",
      " u'is_front_defroster_on': None,\n",
      " u'is_rear_defroster_on': False,\n",
      " u'outside_temp': None,\n",
      " u'passenger_temp_setting': 22.6,\n",
      " u'seat_heater_left': 0,\n",
      " u'seat_heater_rear_center': 0,\n",
      " u'seat_heater_rear_left': 0,\n",
      " u'seat_heater_rear_left_back': 0,\n",
      " u'seat_heater_rear_right': 0,\n",
      " u'seat_heater_rear_right_back': 0,\n",
      " u'seat_heater_right': 0,\n",
      " u'smart_preconditioning': False}\n",
      "{u'driver_temp_setting': 22.6,\n",
      " u'fan_status': 0,\n",
      " u'inside_temp': 22.4,\n",
      " u'is_auto_conditioning_on': False,\n",
      " u'is_front_defroster_on': 0,\n",
      " u'is_rear_defroster_on': False,\n",
      " u'outside_temp': 19.0,\n",
      " u'passenger_temp_setting': 22.6,\n",
      " u'seat_heater_left': 0,\n",
      " u'seat_heater_rear_center': 0,\n",
      " u'seat_heater_rear_left': 0,\n",
      " u'seat_heater_rear_left_back': 0,\n",
      " u'seat_heater_rear_right': 0,\n",
      " u'seat_heater_rear_right_back': 0,\n",
      " u'seat_heater_right': 0,\n",
      " u'smart_preconditioning': False}\n",
      "{u'driver_temp_setting': 22.6,\n",
      " u'fan_status': 0,\n",
      " u'inside_temp': 23.4,\n",
      " u'is_auto_conditioning_on': False,\n",
      " u'is_front_defroster_on': 0,\n",
      " u'is_rear_defroster_on': False,\n",
      " u'outside_temp': 19.0,\n",
      " u'passenger_temp_setting': 22.6,\n",
      " u'seat_heater_left': 0,\n",
      " u'seat_heater_rear_center': 0,\n",
      " u'seat_heater_rear_left': 0,\n",
      " u'seat_heater_rear_left_back': 0,\n",
      " u'seat_heater_rear_right': 0,\n",
      " u'seat_heater_rear_right_back': 0,\n",
      " u'seat_heater_right': 0,\n",
      " u'smart_preconditioning': False}\n"
     ]
    }
   ],
   "source": [
    "for i in cursor:\n",
    "    pprint.pprint(i['climate_state'])\n",
    "    # 'inside_temp' - 'outside_temp'"
   ]
  },
  {
   "cell_type": "code",
   "execution_count": 119,
   "metadata": {
    "collapsed": false
   },
   "outputs": [
    {
     "name": "stdout",
     "output_type": "stream",
     "text": [
      "{u'gps_as_of': 1464868797,\n",
      " u'heading': 25,\n",
      " u'latitude': 33.986891,\n",
      " u'longitude': -118.390415,\n",
      " u'shift_state': None,\n",
      " u'speed': None}\n"
     ]
    }
   ],
   "source": [
    "for i in cursor:\n",
    "    pprint.pprint(i['drive_state'])\n",
    "    # 'speed'"
   ]
  },
  {
   "cell_type": "code",
   "execution_count": 179,
   "metadata": {
    "collapsed": false
   },
   "outputs": [
    {
     "name": "stdout",
     "output_type": "stream",
     "text": [
      "{u'battery_current': 0.0,\n",
      " u'battery_heater_on': None,\n",
      " u'battery_level': 97,\n",
      " u'battery_range': 244.91,\n",
      " u'charge_current_request': 40,\n",
      " u'charge_current_request_max': 40,\n",
      " u'charge_enable_request': True,\n",
      " u'charge_energy_added': 21.63,\n",
      " u'charge_limit_soc': 97,\n",
      " u'charge_limit_soc_max': 100,\n",
      " u'charge_limit_soc_min': 50,\n",
      " u'charge_limit_soc_std': 90,\n",
      " u'charge_miles_added_ideal': 94.0,\n",
      " u'charge_miles_added_rated': 74.5,\n",
      " u'charge_port_door_open': True,\n",
      " u'charge_port_latch': u'Engaged',\n",
      " u'charge_rate': 0.0,\n",
      " u'charge_to_max_range': True,\n",
      " u'charger_actual_current': 0,\n",
      " u'charger_phases': None,\n",
      " u'charger_pilot_current': 0,\n",
      " u'charger_power': 0,\n",
      " u'charger_voltage': 0,\n",
      " u'charging_state': u'Complete',\n",
      " u'est_battery_range': 292.03,\n",
      " u'eu_vehicle': False,\n",
      " u'fast_charger_present': True,\n",
      " u'fast_charger_type': u'Tesla',\n",
      " u'ideal_battery_range': 308.79,\n",
      " u'managed_charging_active': False,\n",
      " u'managed_charging_start_time': None,\n",
      " u'managed_charging_user_canceled': False,\n",
      " u'max_range_charge_counter': 3,\n",
      " u'motorized_charge_port': True,\n",
      " u'not_enough_power_to_heat': False,\n",
      " u'scheduled_charging_pending': False,\n",
      " u'scheduled_charging_start_time': None,\n",
      " u'time_to_full_charge': 0.0,\n",
      " u'trip_charging': False,\n",
      " u'usable_battery_level': 97,\n",
      " u'user_charge_enable_request': None}\n",
      "{u'battery_current': -0.1,\n",
      " u'battery_heater_on': None,\n",
      " u'battery_level': 97,\n",
      " u'battery_range': 244.91,\n",
      " u'charge_current_request': 40,\n",
      " u'charge_current_request_max': 40,\n",
      " u'charge_enable_request': True,\n",
      " u'charge_energy_added': 21.63,\n",
      " u'charge_limit_soc': 97,\n",
      " u'charge_limit_soc_max': 100,\n",
      " u'charge_limit_soc_min': 50,\n",
      " u'charge_limit_soc_std': 90,\n",
      " u'charge_miles_added_ideal': 94.0,\n",
      " u'charge_miles_added_rated': 74.5,\n",
      " u'charge_port_door_open': True,\n",
      " u'charge_port_latch': u'Engaged',\n",
      " u'charge_rate': 0.0,\n",
      " u'charge_to_max_range': True,\n",
      " u'charger_actual_current': 0,\n",
      " u'charger_phases': None,\n",
      " u'charger_pilot_current': 0,\n",
      " u'charger_power': 0,\n",
      " u'charger_voltage': 0,\n",
      " u'charging_state': u'Complete',\n",
      " u'est_battery_range': 292.03,\n",
      " u'eu_vehicle': False,\n",
      " u'fast_charger_present': True,\n",
      " u'fast_charger_type': u'Tesla',\n",
      " u'ideal_battery_range': 308.79,\n",
      " u'managed_charging_active': False,\n",
      " u'managed_charging_start_time': None,\n",
      " u'managed_charging_user_canceled': False,\n",
      " u'max_range_charge_counter': 3,\n",
      " u'motorized_charge_port': True,\n",
      " u'not_enough_power_to_heat': False,\n",
      " u'scheduled_charging_pending': False,\n",
      " u'scheduled_charging_start_time': None,\n",
      " u'time_to_full_charge': 0.0,\n",
      " u'trip_charging': False,\n",
      " u'usable_battery_level': 97,\n",
      " u'user_charge_enable_request': None}\n",
      "{u'battery_current': -0.6,\n",
      " u'battery_heater_on': False,\n",
      " u'battery_level': 97,\n",
      " u'battery_range': 244.91,\n",
      " u'charge_current_request': 40,\n",
      " u'charge_current_request_max': 40,\n",
      " u'charge_enable_request': True,\n",
      " u'charge_energy_added': 21.63,\n",
      " u'charge_limit_soc': 97,\n",
      " u'charge_limit_soc_max': 100,\n",
      " u'charge_limit_soc_min': 50,\n",
      " u'charge_limit_soc_std': 90,\n",
      " u'charge_miles_added_ideal': 94.0,\n",
      " u'charge_miles_added_rated': 74.5,\n",
      " u'charge_port_door_open': True,\n",
      " u'charge_port_latch': u'Engaged',\n",
      " u'charge_rate': 0.0,\n",
      " u'charge_to_max_range': True,\n",
      " u'charger_actual_current': 0,\n",
      " u'charger_phases': None,\n",
      " u'charger_pilot_current': 0,\n",
      " u'charger_power': 0,\n",
      " u'charger_voltage': 0,\n",
      " u'charging_state': u'Complete',\n",
      " u'est_battery_range': 292.03,\n",
      " u'eu_vehicle': False,\n",
      " u'fast_charger_present': True,\n",
      " u'fast_charger_type': u'Tesla',\n",
      " u'ideal_battery_range': 308.79,\n",
      " u'managed_charging_active': False,\n",
      " u'managed_charging_start_time': None,\n",
      " u'managed_charging_user_canceled': False,\n",
      " u'max_range_charge_counter': 3,\n",
      " u'motorized_charge_port': True,\n",
      " u'not_enough_power_to_heat': False,\n",
      " u'scheduled_charging_pending': False,\n",
      " u'scheduled_charging_start_time': None,\n",
      " u'time_to_full_charge': 0.0,\n",
      " u'trip_charging': False,\n",
      " u'usable_battery_level': 97,\n",
      " u'user_charge_enable_request': None}\n",
      "{u'battery_current': -0.5,\n",
      " u'battery_heater_on': False,\n",
      " u'battery_level': 97,\n",
      " u'battery_range': 244.91,\n",
      " u'charge_current_request': 40,\n",
      " u'charge_current_request_max': 40,\n",
      " u'charge_enable_request': True,\n",
      " u'charge_energy_added': 21.63,\n",
      " u'charge_limit_soc': 97,\n",
      " u'charge_limit_soc_max': 100,\n",
      " u'charge_limit_soc_min': 50,\n",
      " u'charge_limit_soc_std': 90,\n",
      " u'charge_miles_added_ideal': 94.0,\n",
      " u'charge_miles_added_rated': 74.5,\n",
      " u'charge_port_door_open': True,\n",
      " u'charge_port_latch': u'Engaged',\n",
      " u'charge_rate': 0.0,\n",
      " u'charge_to_max_range': True,\n",
      " u'charger_actual_current': 0,\n",
      " u'charger_phases': None,\n",
      " u'charger_pilot_current': 0,\n",
      " u'charger_power': 0,\n",
      " u'charger_voltage': 0,\n",
      " u'charging_state': u'Complete',\n",
      " u'est_battery_range': 292.03,\n",
      " u'eu_vehicle': False,\n",
      " u'fast_charger_present': True,\n",
      " u'fast_charger_type': u'Tesla',\n",
      " u'ideal_battery_range': 308.79,\n",
      " u'managed_charging_active': False,\n",
      " u'managed_charging_start_time': None,\n",
      " u'managed_charging_user_canceled': False,\n",
      " u'max_range_charge_counter': 3,\n",
      " u'motorized_charge_port': True,\n",
      " u'not_enough_power_to_heat': False,\n",
      " u'scheduled_charging_pending': False,\n",
      " u'scheduled_charging_start_time': None,\n",
      " u'time_to_full_charge': 0.0,\n",
      " u'trip_charging': False,\n",
      " u'usable_battery_level': 97,\n",
      " u'user_charge_enable_request': None}\n"
     ]
    }
   ],
   "source": [
    "for i in cursor:\n",
    "#     pprint.pprint(i['drive_state']['speed'])\n",
    "    pprint.pprint(i['charge_state'])\n",
    "    # 'battery_range', 'est_battery_range', 'battery_level'\n",
    "    # 'charger_actual_current', 'charger_pilot_current', 'charger_power', 'charger_voltage'"
   ]
  },
  {
   "cell_type": "code",
   "execution_count": 31,
   "metadata": {
    "collapsed": false
   },
   "outputs": [
    {
     "name": "stdout",
     "output_type": "stream",
     "text": [
      "33.73879\n",
      "-118.397822\n"
     ]
    }
   ],
   "source": [
    "print records[5]['latitude']\n",
    "print records[5]['longitude']"
   ]
  },
  {
   "cell_type": "code",
   "execution_count": 10,
   "metadata": {
    "collapsed": false
   },
   "outputs": [
    {
     "ename": "TypeError",
     "evalue": "list indices must be integers, not str",
     "output_type": "error",
     "traceback": [
      "\u001b[0;31m---------------------------------------------------------------------------\u001b[0m",
      "\u001b[0;31mTypeError\u001b[0m                                 Traceback (most recent call last)",
      "\u001b[0;32m<ipython-input-10-79ad0c2acc0a>\u001b[0m in \u001b[0;36m<module>\u001b[0;34m()\u001b[0m\n\u001b[1;32m      2\u001b[0m \u001b[0;32mdef\u001b[0m \u001b[0mfoo\u001b[0m\u001b[0;34m(\u001b[0m\u001b[0mb\u001b[0m\u001b[0;34m)\u001b[0m\u001b[0;34m:\u001b[0m\u001b[0;34m\u001b[0m\u001b[0m\n\u001b[1;32m      3\u001b[0m     \u001b[0ma\u001b[0m\u001b[0;34m[\u001b[0m\u001b[0;34m'names'\u001b[0m\u001b[0;34m]\u001b[0m\u001b[0;34m[\u001b[0m\u001b[0;34m'first'\u001b[0m\u001b[0;34m]\u001b[0m \u001b[0;34m=\u001b[0m \u001b[0mb\u001b[0m\u001b[0;34m\u001b[0m\u001b[0m\n\u001b[0;32m----> 4\u001b[0;31m \u001b[0mfoo\u001b[0m\u001b[0;34m(\u001b[0m\u001b[0;34m'allen'\u001b[0m\u001b[0;34m)\u001b[0m\u001b[0;34m\u001b[0m\u001b[0m\n\u001b[0m",
      "\u001b[0;32m<ipython-input-10-79ad0c2acc0a>\u001b[0m in \u001b[0;36mfoo\u001b[0;34m(b)\u001b[0m\n\u001b[1;32m      1\u001b[0m \u001b[0ma\u001b[0m \u001b[0;34m=\u001b[0m \u001b[0;34m{\u001b[0m\u001b[0;34m'names'\u001b[0m\u001b[0;34m:\u001b[0m\u001b[0;34m[\u001b[0m\u001b[0;34m]\u001b[0m\u001b[0;34m}\u001b[0m\u001b[0;34m\u001b[0m\u001b[0m\n\u001b[1;32m      2\u001b[0m \u001b[0;32mdef\u001b[0m \u001b[0mfoo\u001b[0m\u001b[0;34m(\u001b[0m\u001b[0mb\u001b[0m\u001b[0;34m)\u001b[0m\u001b[0;34m:\u001b[0m\u001b[0;34m\u001b[0m\u001b[0m\n\u001b[0;32m----> 3\u001b[0;31m     \u001b[0ma\u001b[0m\u001b[0;34m[\u001b[0m\u001b[0;34m'names'\u001b[0m\u001b[0;34m]\u001b[0m\u001b[0;34m[\u001b[0m\u001b[0;34m'first'\u001b[0m\u001b[0;34m]\u001b[0m \u001b[0;34m=\u001b[0m \u001b[0mb\u001b[0m\u001b[0;34m\u001b[0m\u001b[0m\n\u001b[0m\u001b[1;32m      4\u001b[0m \u001b[0mfoo\u001b[0m\u001b[0;34m(\u001b[0m\u001b[0;34m'allen'\u001b[0m\u001b[0;34m)\u001b[0m\u001b[0;34m\u001b[0m\u001b[0m\n",
      "\u001b[0;31mTypeError\u001b[0m: list indices must be integers, not str"
     ]
    }
   ],
   "source": [
    "a = {'names':[]}\n",
    "def foo(b):\n",
    "    a['names'].append()\n",
    "foo('allen')"
   ]
  },
  {
   "cell_type": "code",
   "execution_count": 49,
   "metadata": {
    "collapsed": false
   },
   "outputs": [],
   "source": [
    "from tensorflow.examples.tutorials.mnist import input_data\n",
    "mnist = input_data.read_data_sets(\"MNIST_data/\", one_hot=True)"
   ]
  },
  {
   "cell_type": "code",
   "execution_count": 53,
   "metadata": {
    "collapsed": false
   },
   "outputs": [
    {
     "data": {
      "text/plain": [
       "(55000, 10)"
      ]
     },
     "execution_count": 53,
     "metadata": {},
     "output_type": "execute_result"
    }
   ],
   "source": [
    "mnist.train.labels.shape"
   ]
  },
  {
   "cell_type": "code",
   "execution_count": 54,
   "metadata": {
    "collapsed": false
   },
   "outputs": [
    {
     "data": {
      "text/plain": [
       "(55000, 784)"
      ]
     },
     "execution_count": 54,
     "metadata": {},
     "output_type": "execute_result"
    }
   ],
   "source": [
    "mnist.train.images.shape"
   ]
  },
  {
   "cell_type": "markdown",
   "metadata": {},
   "source": [
    "The neural net model learns weights (784,10) which means for each of the 784 pixels, and for each class it produces a weight which represents how strong a pixel influences the value of the label class. A positive weight represents pixels in favor of the lable. For instance, for label class '0'. We have positive (blue) around the borders of 0 but then negative (red) around center of 0. The purpose of the bias is to assume even ground betweent he features (pixels) because some evidence are independent of the inputs "
   ]
  },
  {
   "cell_type": "markdown",
   "metadata": {},
   "source": [
    "Softmax - for each class, we will sumproduct the weights with the X matrix to get a vector of results for the training data. Then we encapsulate our result into an activation function (exp). For the denominator, we sum over all the classes but for the numerator, we compute for each class. What we get is a matrix (55000, 10) with each column representing the probabilities of the particular image belonging to the class. "
   ]
  },
  {
   "cell_type": "code",
   "execution_count": 55,
   "metadata": {
    "collapsed": true
   },
   "outputs": [],
   "source": [
    "import tensorflow as tf"
   ]
  },
  {
   "cell_type": "code",
   "execution_count": 56,
   "metadata": {
    "collapsed": true
   },
   "outputs": [],
   "source": [
    "# set placeholder because later when we train the model, we feed real data\n",
    "# the None represents the number of training data which we input later. 784 represents the number of features\n",
    "x = tf.placeholder(tf.float32, [None, 784])"
   ]
  },
  {
   "cell_type": "code",
   "execution_count": 57,
   "metadata": {
    "collapsed": true
   },
   "outputs": [],
   "source": [
    "# Now we need to represent other inputs: Weights(parameters), and Bias units which are modeled as Variables\n",
    "# The difference between Placeholders and Variables is that Variables are set dimensions\n",
    "W = tf.Variable(tf.zeros([784, 10]))\n",
    "b = tf.Variable(tf.zeros([10])) # only one bias unit per class\n",
    "y = tf.nn.softmax(tf.matmul(x, W) + b)"
   ]
  },
  {
   "cell_type": "code",
   "execution_count": 58,
   "metadata": {
    "collapsed": true
   },
   "outputs": [],
   "source": [
    "# Now that we have defined our model parameters, we need to define a cost function\n",
    "# first lets create a placeholder for the predicted value so we can input that into a our cost evaluation metric\n",
    "y_ = tf.placeholder(tf.float32, [None, 10]) # unknown training examples with each 10 classes\n",
    "# Now compute the cross-entropy\n",
    "# multiple y and y_ matrices and then sum across rows and then take mean across columns\n",
    "cross_entropy = tf.reduce_mean(-tf.reduce_sum(y_*tf.log(y), reduction_indices=[1]))"
   ]
  },
  {
   "cell_type": "code",
   "execution_count": 59,
   "metadata": {
    "collapsed": true
   },
   "outputs": [],
   "source": [
    "# set up the training step\n",
    "train_step = tf.train.GradientDescentOptimizer(0.5).minimize(cross_entropy)"
   ]
  },
  {
   "cell_type": "code",
   "execution_count": 60,
   "metadata": {
    "collapsed": true
   },
   "outputs": [],
   "source": [
    "# initialize all variables\n",
    "init = tf.initialize_all_variables()"
   ]
  },
  {
   "cell_type": "code",
   "execution_count": 61,
   "metadata": {
    "collapsed": true
   },
   "outputs": [],
   "source": [
    "# now lauch model session \n",
    "sess = tf.Session()\n",
    "sess.run(init)"
   ]
  },
  {
   "cell_type": "code",
   "execution_count": 62,
   "metadata": {
    "collapsed": true
   },
   "outputs": [],
   "source": [
    "# finally, lets train\n",
    "for i in range(1000):\n",
    "  batch_xs, batch_ys = mnist.train.next_batch(100)\n",
    "  sess.run(train_step, feed_dict={x: batch_xs, y_: batch_ys})"
   ]
  },
  {
   "cell_type": "code",
   "execution_count": 63,
   "metadata": {
    "collapsed": true
   },
   "outputs": [],
   "source": [
    "# this is why its called Tensor because the response variable y has n dimensions where we used to only 1 binary.\n",
    "# how do we find the most probably class for each training data?\n",
    "correct_prediction = tf.equal(tf.argmax(y,1), tf.argmax(y_,1))"
   ]
  },
  {
   "cell_type": "code",
   "execution_count": 64,
   "metadata": {
    "collapsed": false
   },
   "outputs": [
    {
     "data": {
      "text/plain": [
       "<tf.Tensor 'Equal:0' shape=(?,) dtype=bool>"
      ]
     },
     "execution_count": 64,
     "metadata": {},
     "output_type": "execute_result"
    }
   ],
   "source": [
    "correct_prediction"
   ]
  },
  {
   "cell_type": "code",
   "execution_count": 65,
   "metadata": {
    "collapsed": true
   },
   "outputs": [],
   "source": [
    "accuracy = tf.reduce_mean(tf.cast(correct_prediction, tf.float32))"
   ]
  },
  {
   "cell_type": "code",
   "execution_count": 66,
   "metadata": {
    "collapsed": false
   },
   "outputs": [
    {
     "data": {
      "text/plain": [
       "<tf.Tensor 'Mean_1:0' shape=() dtype=float32>"
      ]
     },
     "execution_count": 66,
     "metadata": {},
     "output_type": "execute_result"
    }
   ],
   "source": [
    "accuracy"
   ]
  },
  {
   "cell_type": "code",
   "execution_count": 67,
   "metadata": {
    "collapsed": false
   },
   "outputs": [
    {
     "name": "stdout",
     "output_type": "stream",
     "text": [
      "0.9177\n"
     ]
    }
   ],
   "source": [
    "print(sess.run(accuracy, feed_dict={x: mnist.test.images, y_: mnist.test.labels}))"
   ]
  },
  {
   "cell_type": "code",
   "execution_count": 148,
   "metadata": {
    "collapsed": false
   },
   "outputs": [
    {
     "name": "stdout",
     "output_type": "stream",
     "text": [
      "2016-06-02 03:56:00\n"
     ]
    }
   ],
   "source": [
    "import datetime\n",
    "print(\n",
    "    datetime.datetime.fromtimestamp(\n",
    "         1464864960.62814 # 1249430400.000\n",
    "    ).strftime('%Y-%m-%d %H:%M:%S')\n",
    ")"
   ]
  },
  {
   "cell_type": "code",
   "execution_count": 201,
   "metadata": {
    "collapsed": false
   },
   "outputs": [
    {
     "name": "stdout",
     "output_type": "stream",
     "text": [
      "2009-08-06 17:00:00\n"
     ]
    }
   ],
   "source": [
    "import datetime\n",
    "print(\n",
    "    datetime.datetime.fromtimestamp(\n",
    "#          1464890406\n",
    "         1249603200\n",
    "    ).strftime('%Y-%m-%d %H:%M:%S')\n",
    ")"
   ]
  },
  {
   "cell_type": "code",
   "execution_count": 202,
   "metadata": {
    "collapsed": false
   },
   "outputs": [
    {
     "name": "stdout",
     "output_type": "stream",
     "text": [
      "begin 1454745600.0\n",
      "end 1473145200.0\n"
     ]
    }
   ],
   "source": [
    "import time\n",
    "import datetime\n",
    "s = \"06/02/2016 00:00:00\"\n",
    "e = \"07/09/2016 00:00:00\"\n",
    "print 'begin', time.mktime(datetime.datetime.strptime(s, \"%d/%m/%Y %H:%M:%S\").timetuple())\n",
    "print 'end', time.mktime(datetime.datetime.strptime(e, \"%d/%m/%Y %H:%M:%S\").timetuple())"
   ]
  },
  {
   "cell_type": "code",
   "execution_count": null,
   "metadata": {
    "collapsed": true
   },
   "outputs": [],
   "source": [
    "1464864960.62814"
   ]
  }
 ],
 "metadata": {
  "kernelspec": {
   "display_name": "Python 2",
   "language": "python",
   "name": "python2"
  },
  "language_info": {
   "codemirror_mode": {
    "name": "ipython",
    "version": 2
   },
   "file_extension": ".py",
   "mimetype": "text/x-python",
   "name": "python",
   "nbconvert_exporter": "python",
   "pygments_lexer": "ipython2",
   "version": "2.7.12"
  }
 },
 "nbformat": 4,
 "nbformat_minor": 0
}
